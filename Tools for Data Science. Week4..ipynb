{
    "cells": [
        {
            "cell_type": "markdown",
            "metadata": {
                "collapsed": true
            },
            "source": "# My Jupyter Notebook on IBM Watson Studio"
        },
        {
            "cell_type": "markdown",
            "metadata": {},
            "source": "**Anjani Kumar Rai**\n\nData Analyst"
        },
        {
            "cell_type": "markdown",
            "metadata": {},
            "source": "*I am interested in data science because data science leads us to the future and I want my place in the future. Also I like to find the unheard behind every story heard.*"
        },
        {
            "cell_type": "markdown",
            "metadata": {},
            "source": "### My code will show the addition of two numbers"
        },
        {
            "cell_type": "code",
            "execution_count": 9,
            "metadata": {},
            "outputs": [
                {
                    "name": "stdout",
                    "output_type": "stream",
                    "text": "2\n"
                }
            ],
            "source": "print(1+1)"
        },
        {
            "cell_type": "markdown",
            "metadata": {},
            "source": "The above `code worked` and the output is `correct`.\n\n***\n\nThis was really:\n* Easy\n* Clear\n* Simple"
        }
    ],
    "metadata": {
        "kernelspec": {
            "display_name": "Python 3.9",
            "language": "python",
            "name": "python3"
        },
        "language_info": {
            "codemirror_mode": {
                "name": "ipython",
                "version": 3
            },
            "file_extension": ".py",
            "mimetype": "text/x-python",
            "name": "python",
            "nbconvert_exporter": "python",
            "pygments_lexer": "ipython3",
            "version": "3.9.12"
        }
    },
    "nbformat": 4,
    "nbformat_minor": 1
}